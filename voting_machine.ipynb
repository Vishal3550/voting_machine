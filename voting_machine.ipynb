{
 "cells": [
  {
   "cell_type": "code",
   "execution_count": null,
   "id": "92263144-fdd7-49e6-8a14-bf24944b95d1",
   "metadata": {},
   "outputs": [
    {
     "name": "stdin",
     "output_type": "stream",
     "text": [
      "Enter the name of first nominee:  vishal\n",
      "Enter the name of second nominee:  raushan\n",
      "Enter your voter id:  1\n"
     ]
    },
    {
     "name": "stdout",
     "output_type": "stream",
     "text": [
      "You are voter\n",
      "------------------------------------\n",
      "To give vote vishal  Press 1\n",
      "To give vote raushan  Press 2\n",
      "------------------------------------\n"
     ]
    },
    {
     "name": "stdin",
     "output_type": "stream",
     "text": [
      "Enter your precious vote:  2\n"
     ]
    },
    {
     "name": "stdout",
     "output_type": "stream",
     "text": [
      "Thanx to give your important vote to them!!  raushan\n"
     ]
    }
   ],
   "source": [
    "# Voting Machine\n",
    "\n",
    "nominee1 = input(\"Enter the name of first nominee: \")\n",
    "nominee2 = input(\"Enter the name of second nominee: \")\n",
    "\n",
    "nm1_votes = 0\n",
    "nm2_votes = 0\n",
    "\n",
    "voter_id = [1, 2, 3, 4, 5, 6, 7, 8, 9, 10]\n",
    "\n",
    "no_of_voter = len(voter_id)\n",
    "\n",
    "while True:\n",
    "    if voter_id == []:\n",
    "        print(\"Voting session is over!!! \")\n",
    "        print(\"------------------------------------\")\n",
    "        if nm1_votes > nm2_votes:\n",
    "            percent = (nm1_votes / nm2_votes) * 100\n",
    "            print(nominee1, \"has won the election with\", percent, \"% of votes\")\n",
    "            break\n",
    "        elif nm2_votes > nm1_votes:\n",
    "            percent = (nm2_votes / nm1_votes) * 100\n",
    "            print(nominee2, \"has won the election with\", percent, \"% of votes\")\n",
    "            break\n",
    "        else:\n",
    "            print(\"Both have equal number of votes !!! \")\n",
    "            print(\"government will decide who will be won the election\")\n",
    "            break\n",
    "\n",
    "    voter = int(input(\"Enter your voter id: \"))\n",
    "    if voter in voter_id:\n",
    "        print(\"You are voter\")\n",
    "        voter_id.remove(voter)\n",
    "        print(\"------------------------------------\")\n",
    "        print(\"To give vote\", nominee1, \" Press 1\")\n",
    "        print(\"To give vote\", nominee2, \" Press 2\")\n",
    "        print(\"------------------------------------\")\n",
    "        vote = int(input(\"Enter your precious vote: \"))\n",
    "        if vote == 1:\n",
    "            nm1_votes += 1\n",
    "            print(\"Thanx to give your important vote to them!! \",nominee1)\n",
    "        elif vote == 2:\n",
    "            nm2_votes += 1\n",
    "            print(\"Thanx to give your important vote to them!! \",nominee2)\n",
    "        elif vote > 2:\n",
    "            print(\"Check your pressed key\")\n",
    "        else:\n",
    "            print(\"You are not a voter OR You have already voted \")\n",
    "            "
   ]
  },
  {
   "cell_type": "code",
   "execution_count": null,
   "id": "39897c97-09c4-4615-a948-b41b008ba109",
   "metadata": {},
   "outputs": [],
   "source": []
  }
 ],
 "metadata": {
  "kernelspec": {
   "display_name": "Python 3 (ipykernel)",
   "language": "python",
   "name": "python3"
  },
  "language_info": {
   "codemirror_mode": {
    "name": "ipython",
    "version": 3
   },
   "file_extension": ".py",
   "mimetype": "text/x-python",
   "name": "python",
   "nbconvert_exporter": "python",
   "pygments_lexer": "ipython3",
   "version": "3.10.8"
  }
 },
 "nbformat": 4,
 "nbformat_minor": 5
}
